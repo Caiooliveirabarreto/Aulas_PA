{
  "nbformat": 4,
  "nbformat_minor": 0,
  "metadata": {
    "colab": {
      "provenance": [],
      "authorship_tag": "ABX9TyO2JLs0g6355m4+8lDmG1ZS",
      "include_colab_link": true
    },
    "kernelspec": {
      "name": "python3",
      "display_name": "Python 3"
    },
    "language_info": {
      "name": "python"
    }
  },
  "cells": [
    {
      "cell_type": "markdown",
      "metadata": {
        "id": "view-in-github",
        "colab_type": "text"
      },
      "source": [
        "<a href=\"https://colab.research.google.com/github/Caiooliveirabarreto/Aulas_PA/blob/main/Exemplos_La%C3%A7os_de_repeti%C3%A7%C3%A3o.ipynb\" target=\"_parent\"><img src=\"https://colab.research.google.com/assets/colab-badge.svg\" alt=\"Open In Colab\"/></a>"
      ]
    },
    {
      "cell_type": "code",
      "execution_count": null,
      "metadata": {
        "id": "WFnNw66nYb5U"
      },
      "outputs": [],
      "source": [
        "# CONTADOR DE NÚMEROS ÍMPARES\n",
        "for i in range(1,31):\n",
        "  if i%2 == 1:\n",
        "    print(i)"
      ]
    },
    {
      "cell_type": "code",
      "source": [
        "\n",
        "# CONTADOR DE UM NÚMERO INICIAL E UM NÚMERIO FINAL\n",
        "# DIGITADOS PELO USÚARIO\n",
        "\n",
        "inicio = int(input('digite o primeiro valor'))\n",
        "fim = int(input('digite o segundo valor'))\n",
        "\n",
        "if inicio > fim:\n",
        "  #aux = inicio\n",
        "  #inicio = fim\n",
        "  #fim = aux\n",
        "\n",
        "  inicio,fim = fim,inicio\n",
        "for i in range(fim,inicio+1):\n",
        "  print(i)"
      ],
      "metadata": {
        "id": "ocJNLhi8fVSZ"
      },
      "execution_count": null,
      "outputs": []
    },
    {
      "cell_type": "code",
      "source": [
        "# SOME TODOS OS NÚMEROS DE 1 A 10\n",
        "\n",
        "soma = 0\n",
        "for i in range(1,11):\n",
        "  soma = soma + i\n",
        "  print('Acumulado ==> ', soma)\n",
        "print('Total ==> ', soma)"
      ],
      "metadata": {
        "id": "fQJKI4exjQ_q"
      },
      "execution_count": null,
      "outputs": []
    },
    {
      "cell_type": "code",
      "source": [
        "# SOMA DOS ÍMPARES DE 1 A 100\n",
        "soma = 0\n",
        "for i in range(1,101):\n",
        "  if i%2 == 1:\n",
        "    soma = soma + i\n",
        "print('Total ==>', soma)"
      ],
      "metadata": {
        "colab": {
          "base_uri": "https://localhost:8080/"
        },
        "id": "aOf7dK9SlNYQ",
        "outputId": "498091d9-ae4e-4ac4-8738-1b4044016eac"
      },
      "execution_count": 28,
      "outputs": [
        {
          "output_type": "stream",
          "name": "stdout",
          "text": [
            "Total ==> 2500\n"
          ]
        }
      ]
    },
    {
      "cell_type": "code",
      "source": [
        "# CONTADOR DE 1 A 10 COM WHILE\n",
        "\n",
        "num = 1\n",
        "while (num<=10):\n",
        "  print(num)\n",
        "  num += 1\n",
        "  #num = num + 1"
      ],
      "metadata": {
        "id": "aoYVFe2yng4h"
      },
      "execution_count": null,
      "outputs": []
    },
    {
      "cell_type": "code",
      "source": [
        "# DIGITE NÚMEROS ATÉ QUE O USUÁRIO DIGITE 0\n",
        "\n",
        "while num != 0:\n",
        "  num = int(input('Digite um número'))\n",
        ""
      ],
      "metadata": {
        "id": "ufSJYcsGpsqd"
      },
      "execution_count": null,
      "outputs": []
    },
    {
      "cell_type": "code",
      "source": [
        "# SOMAR NÚMEROS ATÉ QUE O USUÁRIO DIGITE 0\n",
        "\n",
        "num = int(input('Digite um número'))\n",
        "soma = num\n",
        "while num != 0:\n",
        "  num = int(input('Digite um número'))\n",
        "  soma += num\n",
        "print('Total = ', soma)"
      ],
      "metadata": {
        "id": "SRh_M8bCxODj"
      },
      "execution_count": null,
      "outputs": []
    },
    {
      "cell_type": "code",
      "source": [
        "# CRIANDO UM MENU DE OPÇÕES\n",
        "escolhausuario = 0\n",
        "while escolhausuario != 4:\n",
        "  print('escolha uma opção')\n",
        "  print('digite 1 para opção 1')\n",
        "  print('digite 2 para opção 2')\n",
        "  print('digite 3 para opção 3')\n",
        "  print('digite 4 para sair')\n",
        "  escolhausuario = int(input('digite a sua escolha'))\n",
        "\n",
        "  if escolhausuario == 1:\n",
        "    print('você escolheu a opção 1')\n",
        "  if escolhausuario == 2:\n",
        "    print('você escolheu a opção 2')\n",
        "  if escolhausuario == 3:\n",
        "    print('você escolheu a opção 3')\n",
        ""
      ],
      "metadata": {
        "id": "FELReW5_y5Ca"
      },
      "execution_count": null,
      "outputs": []
    },
    {
      "cell_type": "code",
      "source": [],
      "metadata": {
        "id": "KStUdSWD1NAy"
      },
      "execution_count": null,
      "outputs": []
    }
  ]
}